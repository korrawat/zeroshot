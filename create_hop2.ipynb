{
 "cells": [
  {
   "cell_type": "code",
   "execution_count": 1,
   "metadata": {},
   "outputs": [
    {
     "name": "stdout",
     "output_type": "stream",
     "text": [
      "Loading Glove...\n",
      "Finished loading Glove\n"
     ]
    }
   ],
   "source": [
    "from library import *"
   ]
  },
  {
   "cell_type": "code",
   "execution_count": 2,
   "metadata": {
    "collapsed": true
   },
   "outputs": [],
   "source": [
    "synsets_1k = []\n",
    "with open('1k_synsets.txt') as f:\n",
    "    for line in f:\n",
    "        synsets_1k.append(line[:9])"
   ]
  },
  {
   "cell_type": "code",
   "execution_count": 6,
   "metadata": {
    "scrolled": true
   },
   "outputs": [],
   "source": [
    "hop2 = set([])\n",
    "for synset in synsets_1k:\n",
    "    hop2 = hop2.union(hop_dist(synset, 2))\n",
    "hop2 -= set(synsets_1k)\n",
    "\n",
    "hop2 = set((filter(lambda x: is_one_word(x) and is_leaf(x), hop2)))"
   ]
  },
  {
   "cell_type": "code",
   "execution_count": null,
   "metadata": {
    "collapsed": true
   },
   "outputs": [],
   "source": [
    "# output = 'hop2.txt'\n",
    "# f = open(output, \"w+\")\n",
    "# for synset in set((filter(lambda x: is_one_word(x) and is_leaf(x), hop2_simp))):\n",
    "#     print >> f, synset\n",
    "# f.close()"
   ]
  },
  {
   "cell_type": "code",
   "execution_count": 7,
   "metadata": {
    "collapsed": true
   },
   "outputs": [],
   "source": [
    "available_synset_ids = set()\n",
    "with open('available_synsets.txt') as f:\n",
    "    for line in f:\n",
    "        available_synset_ids.add(line[:-1])"
   ]
  },
  {
   "cell_type": "code",
   "execution_count": 10,
   "metadata": {
    "collapsed": true
   },
   "outputs": [],
   "source": [
    "available_2hop_ids = []\n",
    "for wnid in hop2:\n",
    "    if wnid in available_synset_ids:\n",
    "        available_2hop_ids.append(wnid)"
   ]
  },
  {
   "cell_type": "code",
   "execution_count": 11,
   "metadata": {},
   "outputs": [
    {
     "data": {
      "text/plain": [
       "1822"
      ]
     },
     "execution_count": 11,
     "metadata": {},
     "output_type": "execute_result"
    }
   ],
   "source": [
    "len(available_2hop_ids)"
   ]
  },
  {
   "cell_type": "code",
   "execution_count": null,
   "metadata": {
    "collapsed": true
   },
   "outputs": [],
   "source": [
    "# with open('available_hop2.txt', 'w') as f:\n",
    "#     for wnid in available_2hop_ids:\n",
    "#         f.write(wnid + '\\n')"
   ]
  }
 ],
 "metadata": {
  "kernelspec": {
   "display_name": "Python 2",
   "language": "python",
   "name": "python2"
  },
  "language_info": {
   "codemirror_mode": {
    "name": "ipython",
    "version": 2
   },
   "file_extension": ".py",
   "mimetype": "text/x-python",
   "name": "python",
   "nbconvert_exporter": "python",
   "pygments_lexer": "ipython2",
   "version": "2.7.13"
  }
 },
 "nbformat": 4,
 "nbformat_minor": 2
}
