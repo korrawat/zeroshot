{
 "cells": [
  {
   "cell_type": "code",
   "execution_count": null,
   "metadata": {
    "collapsed": true,
    "deletable": true,
    "editable": true
   },
   "outputs": [],
   "source": [
    "import wget\n",
    "url = 'http://www.image-net.org/archive/wordnet.is_a.txt'\n",
    "wget.download(url, out = 'parent_child.txt')"
   ]
  },
  {
   "cell_type": "code",
   "execution_count": 12,
   "metadata": {
    "collapsed": false,
    "deletable": true,
    "editable": true
   },
   "outputs": [
    {
     "data": {
      "text/plain": [
       "'map_wordnet.txt'"
      ]
     },
     "execution_count": 12,
     "metadata": {},
     "output_type": "execute_result"
    }
   ],
   "source": [
    "url2 = 'http://image-net.org/archive/words.txt'\n",
    "wget.download(url2, out = 'map_wordnet.txt')"
   ]
  },
  {
   "cell_type": "code",
   "execution_count": 1,
   "metadata": {
    "collapsed": false,
    "deletable": true,
    "editable": true
   },
   "outputs": [
    {
     "data": {
      "text/plain": [
       "75850"
      ]
     },
     "execution_count": 1,
     "metadata": {},
     "output_type": "execute_result"
    }
   ],
   "source": [
    "num_lines = sum(1 for line in open('parent_child.txt'))\n",
    "num_lines"
   ]
  },
  {
   "cell_type": "code",
   "execution_count": 2,
   "metadata": {
    "collapsed": false,
    "deletable": true,
    "editable": true
   },
   "outputs": [
    {
     "data": {
      "text/plain": [
       "82115"
      ]
     },
     "execution_count": 2,
     "metadata": {},
     "output_type": "execute_result"
    }
   ],
   "source": [
    "num_lines2 = sum(1 for line in open('map_wordnet.txt'))\n",
    "num_lines2"
   ]
  },
  {
   "cell_type": "code",
   "execution_count": 3,
   "metadata": {
    "collapsed": false,
    "deletable": true,
    "editable": true,
    "scrolled": true
   },
   "outputs": [
    {
     "name": "stdout",
     "output_type": "stream",
     "text": [
      "n00001740\tentity\n",
      "\n",
      "n00001930\tphysical entity\n",
      "\n",
      "n00002137\tabstraction, abstract entity\n",
      "\n",
      "n00002452\tthing\n",
      "\n",
      "n00002684\tobject, physical object\n",
      "\n"
     ]
    }
   ],
   "source": [
    "i = 0\n",
    "with open('map_wordnet.txt') as f:\n",
    "    while i < 5:\n",
    "        line = f.readline()\n",
    "        print line\n",
    "        i += 1"
   ]
  },
  {
   "cell_type": "code",
   "execution_count": 4,
   "metadata": {
    "collapsed": false,
    "deletable": true,
    "editable": true
   },
   "outputs": [
    {
     "data": {
      "text/plain": [
       "'object, physical object'"
      ]
     },
     "execution_count": 4,
     "metadata": {},
     "output_type": "execute_result"
    }
   ],
   "source": [
    "line[10:-1]"
   ]
  },
  {
   "cell_type": "code",
   "execution_count": 5,
   "metadata": {
    "collapsed": true,
    "deletable": true,
    "editable": true
   },
   "outputs": [],
   "source": [
    "id_labels = {}\n",
    "with open('map_wordnet.txt') as f:\n",
    "    for line in f:\n",
    "        id_labels[line[:9]] = line[10:-1].split(', ')"
   ]
  },
  {
   "cell_type": "code",
   "execution_count": 6,
   "metadata": {
    "collapsed": false,
    "deletable": true,
    "editable": true
   },
   "outputs": [
    {
     "name": "stdout",
     "output_type": "stream",
     "text": [
      "['n02118333', 'n02119789']\n",
      "['n02471300', 'n02478875']\n",
      "['n02471762', 'n02473983']\n",
      "['n02100399', 'n02100735']\n",
      "['n02374149', 'n02390258']\n"
     ]
    }
   ],
   "source": [
    "i = 0\n",
    "with open('parent_child.txt') as f:\n",
    "    while i < 5:\n",
    "        line = f.readline()\n",
    "        print line.split()\n",
    "        i += 1"
   ]
  },
  {
   "cell_type": "code",
   "execution_count": 7,
   "metadata": {
    "collapsed": true,
    "deletable": true,
    "editable": true
   },
   "outputs": [],
   "source": [
    "# class Node(object):\n",
    "#     def __init__(self, data):\n",
    "#         self.data = data\n",
    "#         self.children = []\n",
    "#         self.parent = []\n",
    "\n",
    "#     def add_child(self, obj):\n",
    "#         self.children.append(obj)"
   ]
  },
  {
   "cell_type": "code",
   "execution_count": 8,
   "metadata": {
    "collapsed": true,
    "deletable": true,
    "editable": true
   },
   "outputs": [],
   "source": [
    "dic_child = {}\n",
    "dic_parent = {}"
   ]
  },
  {
   "cell_type": "code",
   "execution_count": 9,
   "metadata": {
    "collapsed": true,
    "deletable": true,
    "editable": true
   },
   "outputs": [],
   "source": [
    "def add_child(parent, child):\n",
    "    temp_child = dic_child.get(parent, [])\n",
    "    temp_child.append(child)\n",
    "    dic_child[parent] = temp_child\n",
    "    temp_parent = dic_parent.get(child, [])\n",
    "    temp_parent.append(parent)\n",
    "    dic_parent[child] = temp_parent"
   ]
  },
  {
   "cell_type": "code",
   "execution_count": 10,
   "metadata": {
    "collapsed": true,
    "deletable": true,
    "editable": true
   },
   "outputs": [],
   "source": [
    "with open('parent_child.txt') as f:\n",
    "    for line in f:\n",
    "        parent = line.split()[0]\n",
    "        child = line.split()[1]\n",
    "        add_child(parent, child)"
   ]
  },
  {
   "cell_type": "code",
   "execution_count": 11,
   "metadata": {
    "collapsed": false,
    "deletable": true,
    "editable": true
   },
   "outputs": [
    {
     "data": {
      "text/plain": [
       "74389"
      ]
     },
     "execution_count": 11,
     "metadata": {},
     "output_type": "execute_result"
    }
   ],
   "source": [
    "len(dic_parent.keys())"
   ]
  },
  {
   "cell_type": "code",
   "execution_count": 12,
   "metadata": {
    "collapsed": false,
    "deletable": true,
    "editable": true
   },
   "outputs": [
    {
     "data": {
      "text/plain": [
       "16693"
      ]
     },
     "execution_count": 12,
     "metadata": {},
     "output_type": "execute_result"
    }
   ],
   "source": [
    "len(dic_child)"
   ]
  },
  {
   "cell_type": "code",
   "execution_count": 13,
   "metadata": {
    "collapsed": false,
    "deletable": true,
    "editable": true
   },
   "outputs": [
    {
     "name": "stdout",
     "output_type": "stream",
     "text": [
      "n09540430 ['n09541125', 'n09546604', 'n09540939', 'n09546280', 'n09541661', 'n09541809', 'n09546772', 'n09546453', 'n09540739']\n",
      "n03558404 ['n04273972', 'n03523987', 'n03336282', 'n04098710']\n",
      "n06863751 ['n06864308', 'n06864192', 'n06864407']\n",
      "n13035241 ['n13035707', 'n13036804']\n",
      "n07786686 ['n07787429', 'n07786856']\n",
      "n05048301 ['n05048833', 'n05048690', 'n05048948', 'n05049137']\n"
     ]
    }
   ],
   "source": [
    "for i, (k, v) in enumerate(dic_child.items()):\n",
    "    if i > 5: break\n",
    "    print k, v"
   ]
  },
  {
   "cell_type": "code",
   "execution_count": 14,
   "metadata": {
    "collapsed": false,
    "deletable": true,
    "editable": true
   },
   "outputs": [
    {
     "name": "stdout",
     "output_type": "stream",
     "text": [
      "3430 ['atropine'] n02754756\n",
      "['antidote', 'counterpoison']\n",
      "['alkaloid']\n",
      "['poison', 'toxicant', 'poisonous substance']\n",
      "['mydriatic', 'mydriatic drug']\n",
      "['antispasmodic', 'spasmolytic', 'antispasmodic agent']\n",
      "\n",
      "4575 ['five-spot', 'five'] n03353783\n",
      "['spot']\n",
      "['die', 'dice']\n",
      "['domino']\n",
      "\n",
      "5188 ['sleeper'] n10610850\n",
      "['saboteur', 'wrecker', 'diversionist']\n",
      "['terrorist']\n",
      "['spy', 'undercover agent']\n",
      "\n",
      "7573 ['Christmas', 'Christmas Day', 'Xmas', 'Dec 25'] n15196186\n",
      "['legal holiday', 'national holiday', 'public holiday']\n",
      "['quarter day']\n",
      "['holy day of obligation']\n",
      "['feast day', 'fete day']\n",
      "\n",
      "10458 ['umbilical cord', 'umbilical'] n05520479\n",
      "['funiculus']\n",
      "['duct', 'epithelial duct', 'canal', 'channel']\n",
      "['fetal membrane']\n",
      "\n",
      "13586 ['multiple sclerosis', 'MS', 'disseminated sclerosis', 'disseminated multiple sclerosis'] n14094068\n",
      "['autoimmune disease', 'autoimmune disorder']\n",
      "['degenerative disorder']\n",
      "['sclerosis', 'induration']\n",
      "\n",
      "14147 ['length'] n05129201\n",
      "['dimension']\n",
      "['physical property']\n",
      "['fundamental quantity', 'fundamental measure']\n",
      "\n",
      "15111 ['Tay-Sachs disease', 'Tay-Sachs', 'Sachs disease', 'infantile amaurotic idiocy'] n14169364\n",
      "['lipidosis']\n",
      "['monogenic disorder', 'monogenic disease']\n",
      "['autosomal recessive disease', 'autosomal recessive defect']\n",
      "\n",
      "16531 ['carotenoid'] n14720962\n",
      "['antioxidant']\n",
      "['phytochemical']\n",
      "['pigment']\n",
      "\n",
      "25483 ['potato', 'white potato', 'Irish potato', 'murphy', 'spud', 'tater'] n07710616\n",
      "['root vegetable']\n",
      "['solanaceous vegetable']\n",
      "['starches']\n",
      "\n",
      "26518 ['codeine'] n03062461\n",
      "['analgesic', 'anodyne', 'painkiller', 'pain pill']\n",
      "['antitussive']\n",
      "['opiate']\n",
      "\n",
      "26852 ['chlorine', 'Cl', 'atomic number 17'] n14634591\n",
      "['gas']\n",
      "['halogen']\n",
      "['chemical element', 'element']\n",
      "\n",
      "26910 ['water'] n07935504\n",
      "['food', 'nutrient']\n",
      "['nutrient']\n",
      "['liquid']\n",
      "\n",
      "29704 ['abetalipoproteinemia'] n14151884\n",
      "['lipidosis']\n",
      "['hypobetalipoproteinemia']\n",
      "['genetic disease', 'genetic disorder', 'genetic abnormality', 'genetic defect', 'congenital disease', 'inherited disease', 'inherited disorder', 'hereditary disease', 'hereditary condition']\n",
      "\n",
      "38013 ['epinephrine', 'epinephrin', 'adrenaline', 'Adrenalin'] n05408388\n",
      "['catecholamine']\n",
      "['neurotransmitter']\n",
      "['vasoconstrictor', 'vasoconstrictive', 'pressor']\n",
      "['hormone', 'endocrine', 'internal secretion']\n",
      "\n",
      "38994 ['fluorine', 'F', 'atomic number 9'] n14637507\n",
      "['gas']\n",
      "['halogen']\n",
      "['chemical element', 'element']\n",
      "\n",
      "41013 ['lysergic acid diethylamide', 'LSD'] n03699396\n",
      "['drug of abuse', 'street drug']\n",
      "['controlled substance']\n",
      "['hallucinogen', 'hallucinogenic drug', 'psychedelic drug', 'psychodelic drug']\n",
      "\n",
      "42058 ['nicotine'] n14714817\n",
      "['alkaloid']\n",
      "['plant toxin', 'phytotoxin']\n",
      "['vasoconstrictor', 'vasoconstrictive', 'pressor']\n",
      "\n",
      "43361 [\"Huntington's chorea\", \"Huntington's disease\"] n14156976\n",
      "['autosomal dominant disease', 'autosomal dominant disorder']\n",
      "['monogenic disorder', 'monogenic disease']\n",
      "['chorea']\n",
      "\n",
      "43453 ['sodium hypochlorite'] n15045490\n",
      "['hypochlorite']\n",
      "['disinfectant', 'germicide', 'antimicrobic', 'antimicrobial']\n",
      "['bleaching agent', 'bleach', 'blanching agent', 'whitener']\n",
      "\n",
      "43523 ['butane'] n14685017\n",
      "['gas']\n",
      "['fuel']\n",
      "['methane series', 'alkane series', 'alkane', 'paraffin series', 'paraffin']\n",
      "\n",
      "44153 ['chlorofluorocarbon', 'CFC'] n14603497\n",
      "['greenhouse gas', 'greenhouse emission']\n",
      "['fluorocarbon']\n",
      "['pollutant']\n",
      "\n",
      "46995 ['noradrenaline', 'norepinephrine'] n05407890\n",
      "['catecholamine']\n",
      "['monoamine neurotransmitter']\n",
      "['vasoconstrictor', 'vasoconstrictive', 'pressor']\n",
      "\n",
      "51808 ['tubocurarine', 'curare'] n15111609\n",
      "['alkaloid']\n",
      "['neuromuscular blocking agent']\n",
      "['plant toxin', 'phytotoxin']\n",
      "\n",
      "57592 ['gentian violet', 'crystal violet'] n14770838\n",
      "['antifungal', 'antifungal agent', 'fungicide', 'antimycotic', 'antimycotic agent']\n",
      "['stain']\n",
      "['vermifuge', 'anthelmintic', 'anthelminthic', 'helminthic']\n",
      "['antibacterial', 'antibacterial drug', 'bactericide']\n",
      "\n",
      "61900 ['four-spot', 'four'] n03388826\n",
      "['spot']\n",
      "['die', 'dice']\n",
      "['domino']\n",
      "\n",
      "62745 ['six-spot', 'six'] n04225417\n",
      "['spot']\n",
      "['die', 'dice']\n",
      "['domino']\n",
      "\n",
      "62861 ['date'] n15160579\n",
      "['calendar month', 'month']\n",
      "['calendar year', 'civil year']\n",
      "['calendar day', 'civil day']\n",
      "\n",
      "66195 ['sulfur dioxide', 'sulphur dioxide'] n15064053\n",
      "['dioxide']\n",
      "['gas']\n",
      "['pollutant']\n",
      "\n",
      "66763 ['Niemann-Pick disease'] n14164007\n",
      "['inborn error of metabolism']\n",
      "['lipidosis']\n",
      "['autosomal recessive disease', 'autosomal recessive defect']\n",
      "\n",
      "69917 ['Paris green'] n15012327\n",
      "['insecticide', 'insect powder']\n",
      "['double salt']\n",
      "['pigment']\n",
      "\n",
      "70935 ['piano', 'pianoforte', 'forte-piano'] n03928116\n",
      "['stringed instrument']\n",
      "['percussion instrument', 'percussive instrument']\n",
      "['keyboard instrument']\n",
      "\n",
      "71340 [\"Graves' disease\", 'exophthalmic goiter'] n14121058\n",
      "['hyperthyroidism', 'thyrotoxicosis']\n",
      "['autoimmune disease', 'autoimmune disorder']\n",
      "['exophthalmos']\n",
      "\n",
      "72590 ['tank', 'army tank', 'armored combat vehicle', 'armoured combat vehicle'] n04389033\n",
      "['armored vehicle', 'armoured vehicle']\n",
      "['military vehicle']\n",
      "['tracked vehicle']\n",
      "\n"
     ]
    }
   ],
   "source": [
    "for i, (k, v) in enumerate(dic_parent.items()):\n",
    "    if len(v) > 2:\n",
    "        print i, id_labels[k], k\n",
    "        for x in v:\n",
    "            print id_labels[x]\n",
    "        print \"\""
   ]
  },
  {
   "cell_type": "code",
   "execution_count": 15,
   "metadata": {
    "collapsed": false,
    "deletable": true,
    "editable": true
   },
   "outputs": [
    {
     "ename": "NameError",
     "evalue": "name 'wget' is not defined",
     "output_type": "error",
     "traceback": [
      "\u001b[0;31m---------------------------------------------------------------------------\u001b[0m",
      "\u001b[0;31mNameError\u001b[0m                                 Traceback (most recent call last)",
      "\u001b[0;32m<ipython-input-15-b11c0a00878f>\u001b[0m in \u001b[0;36m<module>\u001b[0;34m()\u001b[0m\n\u001b[1;32m      1\u001b[0m \u001b[0murl3\u001b[0m \u001b[0;34m=\u001b[0m \u001b[0;34m'https://raw.githubusercontent.com/tensorflow/models/master/research/inception/inception/data/imagenet_lsvrc_2015_synsets.txt'\u001b[0m\u001b[0;34m\u001b[0m\u001b[0m\n\u001b[0;32m----> 2\u001b[0;31m \u001b[0mwget\u001b[0m\u001b[0;34m.\u001b[0m\u001b[0mdownload\u001b[0m\u001b[0;34m(\u001b[0m\u001b[0murl3\u001b[0m\u001b[0;34m,\u001b[0m \u001b[0mout\u001b[0m \u001b[0;34m=\u001b[0m \u001b[0;34m'1k_synsets.txt'\u001b[0m\u001b[0;34m)\u001b[0m\u001b[0;34m\u001b[0m\u001b[0m\n\u001b[0m",
      "\u001b[0;31mNameError\u001b[0m: name 'wget' is not defined"
     ]
    }
   ],
   "source": [
    "url3 = 'https://raw.githubusercontent.com/tensorflow/models/master/research/inception/inception/data/imagenet_lsvrc_2015_synsets.txt'\n",
    "wget.download(url3, out = '1k_synsets.txt')"
   ]
  },
  {
   "cell_type": "code",
   "execution_count": 16,
   "metadata": {
    "collapsed": true,
    "deletable": true,
    "editable": true
   },
   "outputs": [],
   "source": [
    "synsets_1k = []\n",
    "with open('1k_synsets.txt') as f:\n",
    "    for line in f:\n",
    "        synsets_1k.append(line[:9])"
   ]
  },
  {
   "cell_type": "code",
   "execution_count": 17,
   "metadata": {
    "collapsed": true,
    "deletable": true,
    "editable": true
   },
   "outputs": [],
   "source": [
    "def find_ancestor(node, level):\n",
    "    if level == 0:\n",
    "        return set([node])\n",
    "    else:\n",
    "        ancestors = set([])\n",
    "        if node not in dic_parent:\n",
    "            return set([])\n",
    "        parents = dic_parent[node]\n",
    "        for parent in parents:\n",
    "            ancestors = ancestors.union(find_ancestor(parent, level-1))\n",
    "    return ancestors\n",
    "\n",
    "def find_descendant(node, level):\n",
    "    if level == 0:\n",
    "        return set([node])\n",
    "    else:\n",
    "        descendants = set([])\n",
    "        if node not in dic_child:\n",
    "            return set([])\n",
    "        children = dic_child[node]\n",
    "        for child in children:\n",
    "            descendants = descendants.union(find_descendant(child, level-1))\n",
    "    return descendants\n",
    "        "
   ]
  },
  {
   "cell_type": "code",
   "execution_count": 18,
   "metadata": {
    "collapsed": true,
    "deletable": true,
    "editable": true
   },
   "outputs": [],
   "source": [
    "def hop(node, up, down):\n",
    "    ancestors = find_ancestor(node, up)\n",
    "    set_hop = set([])\n",
    "    for ancestor in ancestors:\n",
    "        for level in range(down+1):\n",
    "            set_hop = set_hop.union(find_descendant(ancestor, level))\n",
    "    if node in set_hop:\n",
    "        set_hop.remove(node)\n",
    "    return set_hop"
   ]
  },
  {
   "cell_type": "code",
   "execution_count": 19,
   "metadata": {
    "collapsed": true,
    "deletable": true,
    "editable": true
   },
   "outputs": [],
   "source": [
    "def is_leaf(node):\n",
    "    return node not in dic_child"
   ]
  },
  {
   "cell_type": "code",
   "execution_count": 20,
   "metadata": {
    "collapsed": true,
    "deletable": true,
    "editable": true,
    "scrolled": true
   },
   "outputs": [],
   "source": [
    "hop2 = set([])\n",
    "for synset in synsets_1k:\n",
    "    hop2 = hop2.union(hop(synset, 2, 2))\n",
    "    hop2_leaf = set((filter(lambda x: is_leaf(x), hop2)))     "
   ]
  },
  {
   "cell_type": "code",
   "execution_count": 21,
   "metadata": {
    "collapsed": false,
    "deletable": true,
    "editable": true
   },
   "outputs": [
    {
     "data": {
      "text/plain": [
       "650"
      ]
     },
     "execution_count": 21,
     "metadata": {},
     "output_type": "execute_result"
    }
   ],
   "source": [
    "sum(is_leaf(x) for x in synsets_1k)"
   ]
  },
  {
   "cell_type": "code",
   "execution_count": 22,
   "metadata": {
    "collapsed": false,
    "deletable": true,
    "editable": true
   },
   "outputs": [
    {
     "data": {
      "text/plain": [
       "['n02343320', 'n02343058']"
      ]
     },
     "execution_count": 22,
     "metadata": {},
     "output_type": "execute_result"
    }
   ],
   "source": [
    "dic_child['n02342885']"
   ]
  },
  {
   "cell_type": "markdown",
   "metadata": {
    "deletable": true,
    "editable": true
   },
   "source": [
    "# New Hop"
   ]
  },
  {
   "cell_type": "code",
   "execution_count": 23,
   "metadata": {
    "collapsed": true,
    "deletable": true,
    "editable": true
   },
   "outputs": [],
   "source": [
    "def hop_dist(node, dist):\n",
    "    set_hop = set([])\n",
    "    for d in range(dist+1):\n",
    "        for up in range(1,d+1):\n",
    "            down = d - up\n",
    "            ancestors = find_ancestor(node, up)\n",
    "            for ancestor in ancestors:\n",
    "                set_hop = set_hop.union(find_descendant(ancestor, down))\n",
    "    return set_hop"
   ]
  },
  {
   "cell_type": "code",
   "execution_count": 24,
   "metadata": {
    "collapsed": false,
    "deletable": true,
    "editable": true
   },
   "outputs": [
    {
     "data": {
      "text/plain": [
       "{'n02329401'}"
      ]
     },
     "execution_count": 24,
     "metadata": {},
     "output_type": "execute_result"
    }
   ],
   "source": [
    "hop_dist('n02342885', 1)"
   ]
  },
  {
   "cell_type": "code",
   "execution_count": 25,
   "metadata": {
    "collapsed": true,
    "deletable": true,
    "editable": true
   },
   "outputs": [],
   "source": [
    "hop2 = set([])\n",
    "for synset in synsets_1k:\n",
    "    hop2 = hop2.union(hop_dist(synset, 2))\n",
    "hop2 -= set(synsets_1k)"
   ]
  },
  {
   "cell_type": "code",
   "execution_count": 26,
   "metadata": {
    "collapsed": false,
    "deletable": true,
    "editable": true
   },
   "outputs": [
    {
     "data": {
      "text/plain": [
       "5242"
      ]
     },
     "execution_count": 26,
     "metadata": {},
     "output_type": "execute_result"
    }
   ],
   "source": [
    "len(hop2)"
   ]
  },
  {
   "cell_type": "code",
   "execution_count": 27,
   "metadata": {
    "collapsed": false,
    "deletable": true,
    "editable": true
   },
   "outputs": [
    {
     "data": {
      "text/plain": [
       "3439"
      ]
     },
     "execution_count": 27,
     "metadata": {},
     "output_type": "execute_result"
    }
   ],
   "source": [
    "sum(is_leaf(n) for n in hop2)"
   ]
  },
  {
   "cell_type": "code",
   "execution_count": 28,
   "metadata": {
    "collapsed": false,
    "deletable": true,
    "editable": true
   },
   "outputs": [
    {
     "name": "stdout",
     "output_type": "stream",
     "text": [
      "['vulture']\n",
      "[['buzzard', 'turkey buzzard', 'turkey vulture', 'Cathartes aura'], ['black vulture', 'carrion crow', 'Coragyps atratus'], ['Egyptian vulture', \"Pharaoh's chicken\", 'Neophron percnopterus'], ['condor'], ['king vulture', 'Sarcorhamphus papa'], ['black vulture', 'Aegypius monachus'], ['griffon vulture', 'griffon', 'Gyps fulvus'], ['bearded vulture', 'lammergeier', 'lammergeyer', 'Gypaetus barbatus']]\n",
      "['fly']\n",
      "[['horsefly', 'cleg', 'clegg', 'horse fly'], ['botfly'], ['greenbottle', 'greenbottle fly'], ['warble fly'], ['bluebottle', 'Calliphora vicina']]\n",
      "['grasshopper', 'hopper']\n",
      "[['locust'], ['sand cricket', 'Jerusalem cricket', 'Stenopelmatus fuscus'], ['katydid']]\n",
      "['knot']\n",
      "[['Windsor knot'], ['Matthew Walker', 'Matthew Walker knot'], ['timber hitch'], ['bowline', 'bowline knot'], [\"cat's-paw\"], ['Blackwall hitch'], ['sheet bend', 'becket bend', \"weaver's knot\", \"weaver's hitch\"], ['rolling hitch'], ['reef knot', 'flat knot']]\n",
      "['missile']\n",
      "[['Exocet'], ['space probe'], ['buzz bomb', 'robot bomb', 'flying bomb', 'doodlebug', 'V-1'], ['brilliant pebble'], ['surface-to-air missile', 'SAM'], ['Stinger'], ['intercontinental ballistic missile', 'ICBM'], ['antiballistic missile', 'ABM']]\n",
      "['pole']\n",
      "[['bowsprit'], ['dolphin striker', 'martingale'], ['gaff'], ['sprit'], ['boom'], ['mast'], ['yard'], ['jibboom']]\n",
      "['printer']\n",
      "[['ink-jet printer'], ['wire matrix printer', 'wire printer', 'stylus printer']]\n",
      "['scale', 'weighing machine']\n",
      "[['beam balance'], ['electronic balance'], ['steelyard', 'lever scale', 'beam scale'], ['spring balance', 'spring scale'], ['microbalance']]\n",
      "['shovel']\n",
      "[['entrenching tool', 'trenching spade'], ['spud', 'stump spud'], ['coal shovel'], ['spade']]\n",
      "['switch', 'electric switch', 'electrical switch']\n",
      "[['DIP switch', 'dual inline package switch'], ['doorbell', 'bell', 'buzzer'], ['horn button'], ['mouse button'], ['panic button'], ['bell push'], ['reset button'], ['dial', 'telephone dial']]\n",
      "['dough']\n",
      "[['puff paste', 'pate feuillete']]\n",
      "['bubble']\n",
      "[['white water', 'whitewater'], ['spume'], ['soapsuds', 'suds', 'lather'], ['shaving foam'], ['head'], ['lather']]\n",
      "['valley', 'vale']\n",
      "[['wadi'], ['gorge'], ['draw'], ['canyon', 'canon'], ['dell', 'dingle'], ['arroyo']]\n",
      "['ballplayer', 'baseball player']\n",
      "[['infielder'], ['right-handed pitcher', 'right-hander'], ['screwballer'], ['bunter'], ['reliever', 'relief pitcher', 'fireman'], ['left-handed pitcher', 'left-hander', 'left hander', 'lefthander', 'lefty', 'southpaw'], ['pinch hitter'], ['designated hitter'], ['whiffer'], ['switch-hitter'], ['starting pitcher'], ['outfielder']]\n"
     ]
    }
   ],
   "source": [
    "not_leaf2 = 0\n",
    "for synset in synsets_1k:\n",
    "    if not is_leaf(synset):\n",
    "        if find_descendant(synset, 3) != set([]):\n",
    "            not_leaf2 += 1\n",
    "            print id_labels[synset]\n",
    "            print [id_labels[x] for x in find_descendant(synset, 2)]"
   ]
  },
  {
   "cell_type": "code",
   "execution_count": 29,
   "metadata": {
    "collapsed": false,
    "deletable": true,
    "editable": true
   },
   "outputs": [
    {
     "data": {
      "text/plain": [
       "14"
      ]
     },
     "execution_count": 29,
     "metadata": {},
     "output_type": "execute_result"
    }
   ],
   "source": [
    "not_leaf2"
   ]
  },
  {
   "cell_type": "code",
   "execution_count": 30,
   "metadata": {
    "collapsed": false,
    "deletable": true,
    "editable": true
   },
   "outputs": [
    {
     "data": {
      "text/plain": [
       "650"
      ]
     },
     "execution_count": 30,
     "metadata": {},
     "output_type": "execute_result"
    }
   ],
   "source": [
    "sum(is_leaf(x) for x in synsets_1k)"
   ]
  },
  {
   "cell_type": "code",
   "execution_count": 31,
   "metadata": {
    "collapsed": true,
    "deletable": true,
    "editable": true
   },
   "outputs": [],
   "source": [
    "num_leaf_full = 0\n",
    "set_dict_keys = set([])\n",
    "with open('map_wordnet.txt') as f:\n",
    "    for line in f:\n",
    "        synset = line[:9]\n",
    "        set_dict_keys.add(synset)\n",
    "        num_leaf_full += is_leaf(synset)"
   ]
  },
  {
   "cell_type": "code",
   "execution_count": 32,
   "metadata": {
    "collapsed": false,
    "deletable": true,
    "editable": true
   },
   "outputs": [
    {
     "data": {
      "text/plain": [
       "65422"
      ]
     },
     "execution_count": 32,
     "metadata": {},
     "output_type": "execute_result"
    }
   ],
   "source": [
    "num_leaf_full"
   ]
  },
  {
   "cell_type": "code",
   "execution_count": 33,
   "metadata": {
    "collapsed": true,
    "deletable": true,
    "editable": true
   },
   "outputs": [],
   "source": [
    "set_all_synset = set(dic_child.keys()).union(set(dic_parent.keys()))"
   ]
  },
  {
   "cell_type": "code",
   "execution_count": 34,
   "metadata": {
    "collapsed": false,
    "deletable": true,
    "editable": true
   },
   "outputs": [
    {
     "data": {
      "text/plain": [
       "74401"
      ]
     },
     "execution_count": 34,
     "metadata": {},
     "output_type": "execute_result"
    }
   ],
   "source": [
    "len(set_all_synset)"
   ]
  },
  {
   "cell_type": "code",
   "execution_count": 35,
   "metadata": {
    "collapsed": false,
    "deletable": true,
    "editable": true
   },
   "outputs": [
    {
     "data": {
      "text/plain": [
       "57708"
      ]
     },
     "execution_count": 35,
     "metadata": {},
     "output_type": "execute_result"
    }
   ],
   "source": [
    "sum(is_leaf(x) for x in set_all_synset)"
   ]
  },
  {
   "cell_type": "code",
   "execution_count": 36,
   "metadata": {
    "collapsed": false,
    "deletable": true,
    "editable": true
   },
   "outputs": [
    {
     "data": {
      "text/plain": [
       "True"
      ]
     },
     "execution_count": 36,
     "metadata": {},
     "output_type": "execute_result"
    }
   ],
   "source": [
    "set_all_synset.issubset(set_dict_keys)"
   ]
  },
  {
   "cell_type": "code",
   "execution_count": 37,
   "metadata": {
    "collapsed": true,
    "deletable": true,
    "editable": true
   },
   "outputs": [],
   "source": [
    "def hop_dist_simp(node, dist):\n",
    "    set_hop = set([])\n",
    "    for d in range(dist+1):\n",
    "        for up in range(0,d+1):\n",
    "            down = d - up\n",
    "            ancestors = find_ancestor(node, up)\n",
    "            for ancestor in ancestors:\n",
    "                set_hop = set_hop.union(find_descendant(ancestor, down))\n",
    "    return set((filter(lambda x: is_leaf(x), set_hop)))  "
   ]
  },
  {
   "cell_type": "code",
   "execution_count": 38,
   "metadata": {
    "collapsed": false,
    "deletable": true,
    "editable": true
   },
   "outputs": [
    {
     "data": {
      "text/plain": [
       "{'n02343058', 'n02343320'}"
      ]
     },
     "execution_count": 38,
     "metadata": {},
     "output_type": "execute_result"
    }
   ],
   "source": [
    "hop_dist_simp('n02342885', 1)"
   ]
  },
  {
   "cell_type": "code",
   "execution_count": 39,
   "metadata": {
    "collapsed": true,
    "deletable": true,
    "editable": true
   },
   "outputs": [],
   "source": [
    "hop2_simp = set([])\n",
    "for synset in synsets_1k:\n",
    "    hop2_simp = hop2_simp.union(hop_dist_simp(synset, 2))\n",
    "hop2_simp -= set(synsets_1k)"
   ]
  },
  {
   "cell_type": "code",
   "execution_count": 40,
   "metadata": {
    "collapsed": false,
    "deletable": true,
    "editable": true
   },
   "outputs": [
    {
     "data": {
      "text/plain": [
       "4620"
      ]
     },
     "execution_count": 40,
     "metadata": {},
     "output_type": "execute_result"
    }
   ],
   "source": [
    "len(hop2_simp)"
   ]
  },
  {
   "cell_type": "code",
   "execution_count": 41,
   "metadata": {
    "collapsed": false,
    "deletable": true,
    "editable": true,
    "scrolled": true
   },
   "outputs": [
    {
     "data": {
      "text/plain": [
       "True"
      ]
     },
     "execution_count": 41,
     "metadata": {},
     "output_type": "execute_result"
    }
   ],
   "source": [
    "set((filter(lambda x: is_leaf(x), hop2))).issubset(hop2_simp)"
   ]
  },
  {
   "cell_type": "code",
   "execution_count": 42,
   "metadata": {
    "collapsed": false,
    "deletable": true,
    "editable": true
   },
   "outputs": [
    {
     "data": {
      "text/plain": [
       "238"
      ]
     },
     "execution_count": 42,
     "metadata": {},
     "output_type": "execute_result"
    }
   ],
   "source": [
    "hop_down_2 = set([])\n",
    "for synset in synsets_1k:\n",
    "    hop_down_2 = hop_down_2.union(find_descendant(synset, 2))\n",
    "len(set((filter(lambda x: is_leaf(x), hop_down_2))))"
   ]
  },
  {
   "cell_type": "code",
   "execution_count": 43,
   "metadata": {
    "collapsed": true,
    "deletable": true,
    "editable": true
   },
   "outputs": [],
   "source": [
    "def is_one_word(synset):\n",
    "    labels = id_labels[synset]\n",
    "    res = 1\n",
    "    for label in labels:\n",
    "        if ' ' not in label:\n",
    "            res *= 0\n",
    "        else:\n",
    "            res *= 1\n",
    "    return not res\n",
    "    \n",
    "#     return not reduce((lambda x, y: (' ' in x) * (' ' in y)), labels, '')"
   ]
  },
  {
   "cell_type": "code",
   "execution_count": 49,
   "metadata": {
    "collapsed": false,
    "deletable": true,
    "editable": true
   },
   "outputs": [
    {
     "data": {
      "text/plain": [
       "('hamster', False)"
      ]
     },
     "execution_count": 49,
     "metadata": {},
     "output_type": "execute_result"
    }
   ],
   "source": [
    "get_one_word('n02343058')"
   ]
  },
  {
   "cell_type": "code",
   "execution_count": 50,
   "metadata": {
    "collapsed": false,
    "deletable": true,
    "editable": true
   },
   "outputs": [
    {
     "data": {
      "text/plain": [
       "True"
      ]
     },
     "execution_count": 50,
     "metadata": {},
     "output_type": "execute_result"
    }
   ],
   "source": [
    "is_one_word('n02421612')"
   ]
  },
  {
   "cell_type": "code",
   "execution_count": 51,
   "metadata": {
    "collapsed": false,
    "deletable": true,
    "editable": true
   },
   "outputs": [
    {
     "data": {
      "text/plain": [
       "['Madoqua', 'genus Madoqua']"
      ]
     },
     "execution_count": 51,
     "metadata": {},
     "output_type": "execute_result"
    }
   ],
   "source": [
    "id_labels['n02421612']"
   ]
  },
  {
   "cell_type": "code",
   "execution_count": 315,
   "metadata": {
    "collapsed": false,
    "deletable": true,
    "editable": true
   },
   "outputs": [
    {
     "data": {
      "text/plain": [
       "2744"
      ]
     },
     "execution_count": 315,
     "metadata": {},
     "output_type": "execute_result"
    }
   ],
   "source": [
    "len(set((filter(lambda x: is_one_word(x), hop2_simp))))"
   ]
  },
  {
   "cell_type": "code",
   "execution_count": 47,
   "metadata": {
    "collapsed": true,
    "deletable": true,
    "editable": true
   },
   "outputs": [],
   "source": [
    "def get_recent_oneword_ancestor(synset):\n",
    "    level = 0\n",
    "    while level >= 0:\n",
    "        for ancestor in find_ancestor(synset, level):\n",
    "            if is_one_word(ancestor):\n",
    "                return ancestor\n",
    "            level += 1\n",
    "    \n",
    "#     level = 0\n",
    "#     if is_one_word(synset):\n",
    "#         return (synset, level)\n",
    "#     else:\n",
    "#         level += 1\n",
    "#         parents = dic_parent[synset]\n",
    "#         return min([get_recent_oneword_ancestor(parent) for parent in parents], key = lambda x: x[1])\n",
    "    "
   ]
  },
  {
   "cell_type": "code",
   "execution_count": 48,
   "metadata": {
    "collapsed": true,
    "deletable": true,
    "editable": true
   },
   "outputs": [],
   "source": [
    "def get_one_word(synset):\n",
    "    curr = get_recent_oneword_ancestor(synset)\n",
    "    labels = id_labels[curr]\n",
    "    for label in labels:\n",
    "        if ' ' not in label:\n",
    "            return label, is_one_word(synset)"
   ]
  },
  {
   "cell_type": "code",
   "execution_count": 325,
   "metadata": {
    "collapsed": false,
    "deletable": true,
    "editable": true
   },
   "outputs": [
    {
     "data": {
      "text/plain": [
       "'n02342885'"
      ]
     },
     "execution_count": 325,
     "metadata": {},
     "output_type": "execute_result"
    }
   ],
   "source": [
    "get_recent_oneword_ancestor('n02343058')"
   ]
  },
  {
   "cell_type": "code",
   "execution_count": 327,
   "metadata": {
    "collapsed": false,
    "deletable": true,
    "editable": true
   },
   "outputs": [
    {
     "data": {
      "text/plain": [
       "{'n03024882',\n",
       " 'n04073425',\n",
       " 'n04354589',\n",
       " 'n03906894',\n",
       " 'n01541760',\n",
       " 'n02824058',\n",
       " 'n07593471',\n",
       " 'n09407194',\n",
       " 'n04123123',\n",
       " 'n03260733',\n",
       " 'n02486908',\n",
       " 'n04439505',\n",
       " 'n09266604',\n",
       " 'n03246454',\n",
       " 'n03710079',\n",
       " 'n02888270',\n",
       " 'n04521863',\n",
       " 'n03356559',\n",
       " 'n01859325',\n",
       " 'n03316105',\n",
       " 'n07872593',\n",
       " 'n04237287',\n",
       " 'n07746038',\n",
       " 'n02513355',\n",
       " 'n04230487',\n",
       " 'n03655295',\n",
       " 'n04545748',\n",
       " 'n09478962',\n",
       " 'n07835823',\n",
       " 'n02129530',\n",
       " 'n04520480',\n",
       " 'n02233943',\n",
       " 'n01639187',\n",
       " 'n02775359',\n",
       " 'n07801091',\n",
       " 'n03467380',\n",
       " 'n03254862',\n",
       " 'n04598318',\n",
       " 'n03524287',\n",
       " 'n07745357',\n",
       " 'n03999064',\n",
       " 'n03059934',\n",
       " 'n03549350',\n",
       " 'n04176747',\n",
       " 'n03164722',\n",
       " 'n04030274',\n",
       " 'n04249415',\n",
       " 'n07919787',\n",
       " 'n03531691',\n",
       " 'n04347119',\n",
       " 'n04409279',\n",
       " 'n03548402',\n",
       " 'n04052235',\n",
       " 'n03364599',\n",
       " 'n03264906',\n",
       " 'n11896141',\n",
       " 'n01824344',\n",
       " 'n03776167',\n",
       " 'n03963294',\n",
       " 'n03115762',\n",
       " 'n01834540',\n",
       " 'n04374735',\n",
       " 'n04300643',\n",
       " 'n07879450',\n",
       " 'n03548533',\n",
       " 'n02936402',\n",
       " 'n01932936',\n",
       " 'n02871631',\n",
       " 'n02422391',\n",
       " 'n03797182',\n",
       " 'n02492948',\n",
       " 'n03153585',\n",
       " 'n02874442',\n",
       " 'n02716626',\n",
       " 'n02488894',\n",
       " 'n04370600',\n",
       " 'n04114428',\n",
       " 'n03675558',\n",
       " 'n03648219',\n",
       " 'n01748906',\n",
       " 'n04513827',\n",
       " 'n04383839',\n",
       " 'n01705010',\n",
       " 'n03548086',\n",
       " 'n03644073',\n",
       " 'n03540090',\n",
       " 'n04168472',\n",
       " 'n04384593',\n",
       " 'n01932643',\n",
       " 'n02739550',\n",
       " 'n02309242',\n",
       " 'n03824381',\n",
       " 'n03463666',\n",
       " 'n01881564',\n",
       " 'n11721337',\n",
       " 'n03099622',\n",
       " 'n02543952',\n",
       " 'n04384910',\n",
       " 'n02931294',\n",
       " 'n07880080',\n",
       " 'n04213264',\n",
       " 'n06359467',\n",
       " 'n02736798',\n",
       " 'n03619793',\n",
       " 'n04192521',\n",
       " 'n01687128',\n",
       " 'n01533651',\n",
       " 'n03133415',\n",
       " 'n03221205',\n",
       " 'n03805180',\n",
       " 'n03645411',\n",
       " 'n02970100',\n",
       " 'n01752736',\n",
       " 'n02526425',\n",
       " 'n04056491',\n",
       " 'n02936570',\n",
       " 'n03026907',\n",
       " 'n04303497',\n",
       " 'n07614942',\n",
       " 'n03170635',\n",
       " 'n02456008',\n",
       " 'n03695753',\n",
       " 'n02396796',\n",
       " 'n03809211',\n",
       " 'n03784270',\n",
       " 'n11947802',\n",
       " 'n03408340',\n",
       " 'n02952485',\n",
       " 'n03819336',\n",
       " 'n02772700',\n",
       " 'n04312154',\n",
       " 'n07751148',\n",
       " 'n03200152',\n",
       " 'n03494537',\n",
       " 'n03878674',\n",
       " 'n03783873',\n",
       " 'n04375926',\n",
       " 'n03355768',\n",
       " 'n02124157',\n",
       " 'n02266421',\n",
       " 'n09398677',\n",
       " 'n02806530',\n",
       " 'n02858044',\n",
       " 'n02428089',\n",
       " 'n01580870',\n",
       " 'n01443243',\n",
       " 'n02065726',\n",
       " 'n01909906',\n",
       " 'n02890940',\n",
       " 'n03589313',\n",
       " 'n03697913',\n",
       " 'n04583620',\n",
       " 'n03092166',\n",
       " 'n07718195',\n",
       " 'n03105088',\n",
       " 'n03362293',\n",
       " 'n02806992',\n",
       " 'n09452760',\n",
       " 'n04128710',\n",
       " 'n04554211',\n",
       " 'n01819734',\n",
       " 'n02683183',\n",
       " 'n02004855',\n",
       " 'n03917327',\n",
       " 'n03953901',\n",
       " 'n03078802',\n",
       " 'n01928517',\n",
       " 'n03676087',\n",
       " 'n02115012',\n",
       " 'n03857156',\n",
       " 'n02776825',\n",
       " 'n03911513',\n",
       " 'n02892948',\n",
       " 'n02366301',\n",
       " 'n07931280',\n",
       " 'n01636127',\n",
       " 'n04474035',\n",
       " 'n04140777',\n",
       " 'n03724066',\n",
       " 'n04409011',\n",
       " 'n07898895',\n",
       " 'n07695187',\n",
       " 'n07743544',\n",
       " 'n02324587',\n",
       " 'n15086247',\n",
       " 'n04170694',\n",
       " 'n03537550',\n",
       " 'n01857851',\n",
       " 'n02788572',\n",
       " 'n04421417',\n",
       " 'n03997875',\n",
       " 'n07761141',\n",
       " 'n03397412',\n",
       " 'n01632952',\n",
       " 'n07764315',\n",
       " 'n02904233',\n",
       " 'n03178430',\n",
       " 'n02962200',\n",
       " 'n03647691',\n",
       " 'n04392113',\n",
       " 'n02850950',\n",
       " 'n03543254',\n",
       " 'n01566645',\n",
       " 'n02800213',\n",
       " 'n03943920',\n",
       " 'n03448590',\n",
       " 'n02485225',\n",
       " 'n03205574',\n",
       " 'n07698250',\n",
       " 'n04563413',\n",
       " 'n03657511',\n",
       " 'n03174450',\n",
       " 'n09218315',\n",
       " 'n01516609',\n",
       " 'n03831203',\n",
       " 'n03533486',\n",
       " 'n04289027',\n",
       " 'n03276839',\n",
       " 'n04351699',\n",
       " 'n02762169',\n",
       " 'n03516844',\n",
       " 'n02956883',\n",
       " 'n04082344',\n",
       " 'n07698782',\n",
       " 'n01872772',\n",
       " 'n03188290',\n",
       " 'n01682435',\n",
       " 'n13005329',\n",
       " 'n04134339',\n",
       " 'n03471685',\n",
       " 'n01579260',\n",
       " 'n02138777',\n",
       " 'n01927159',\n",
       " 'n01621635',\n",
       " 'n03245889',\n",
       " 'n02901620',\n",
       " 'n13226871',\n",
       " 'n03609147',\n",
       " 'n09218641',\n",
       " 'n04388574',\n",
       " 'n04248209',\n",
       " 'n04432662',\n",
       " 'n09447666',\n",
       " 'n01842504',\n",
       " 'n03209910',\n",
       " 'n01933478',\n",
       " 'n03643149',\n",
       " 'n04372948',\n",
       " 'n02545841',\n",
       " 'n07698672',\n",
       " 'n04395106',\n",
       " 'n03135788',\n",
       " 'n02867401',\n",
       " 'n04172904',\n",
       " 'n13001041',\n",
       " 'n04298906',\n",
       " 'n02880189',\n",
       " 'n04412416',\n",
       " 'n03450881',\n",
       " 'n03618982',\n",
       " 'n04219185',\n",
       " 'n03579791',\n",
       " 'n03233123',\n",
       " 'n04238128',\n",
       " 'n03427202',\n",
       " 'n04539794',\n",
       " 'n04211528',\n",
       " 'n04187233',\n",
       " 'n03160740',\n",
       " 'n02328009',\n",
       " 'n02132788',\n",
       " 'n04501947',\n",
       " 'n02952674',\n",
       " 'n02854630',\n",
       " 'n03005619',\n",
       " 'n07879072',\n",
       " 'n03933391',\n",
       " 'n03772077',\n",
       " 'n03899933',\n",
       " 'n02536456',\n",
       " 'n01541386',\n",
       " 'n07723039',\n",
       " 'n01593553',\n",
       " 'n13140367',\n",
       " 'n04137355',\n",
       " 'n04452615',\n",
       " 'n04158002',\n",
       " 'n07840520',\n",
       " 'n03885194',\n",
       " 'n02694662',\n",
       " 'n02408817',\n",
       " 'n01787191',\n",
       " 'n03219362',\n",
       " 'n02842133',\n",
       " 'n04525191',\n",
       " 'n04239639',\n",
       " 'n01558149',\n",
       " 'n02421136',\n",
       " 'n04087826',\n",
       " 'n04355511',\n",
       " 'n03075768',\n",
       " 'n02903727',\n",
       " 'n02449350',\n",
       " 'n03187153',\n",
       " 'n03904782',\n",
       " 'n01856072',\n",
       " 'n07880213',\n",
       " 'n02734725',\n",
       " 'n03186285',\n",
       " 'n03986071',\n",
       " 'n02209964',\n",
       " 'n03751590',\n",
       " 'n03050864',\n",
       " 'n04369856',\n",
       " 'n03235979',\n",
       " 'n01633406',\n",
       " 'n03868643',\n",
       " 'n07832592',\n",
       " 'n04578112',\n",
       " 'n02756601',\n",
       " 'n03598299',\n",
       " 'n03103904',\n",
       " 'n02388588',\n",
       " 'n01686044',\n",
       " 'n03169063',\n",
       " 'n03095965',\n",
       " 'n04469147',\n",
       " 'n03004409',\n",
       " 'n03871371',\n",
       " 'n02455428',\n",
       " 'n04138261',\n",
       " 'n02963503',\n",
       " 'n04292921',\n",
       " 'n02713218',\n",
       " 'n01928215',\n",
       " 'n02666943',\n",
       " 'n07746551',\n",
       " 'n04035231',\n",
       " 'n03650551',\n",
       " 'n13009085',\n",
       " 'n03071552',\n",
       " 'n03225458',\n",
       " 'n03703203',\n",
       " 'n04131208',\n",
       " 'n02911332',\n",
       " 'n03221059',\n",
       " 'n02805983',\n",
       " 'n03052917',\n",
       " 'n02905288',\n",
       " 'n02861022',\n",
       " 'n03457686',\n",
       " 'n03610836',\n",
       " 'n03135532',\n",
       " 'n04095342',\n",
       " 'n04337650',\n",
       " 'n03543394',\n",
       " 'n03114504',\n",
       " 'n03317889',\n",
       " 'n01667432',\n",
       " 'n01668892',\n",
       " 'n02851384',\n",
       " 'n04147291',\n",
       " 'n01923404',\n",
       " 'n03684143',\n",
       " 'n02684962',\n",
       " 'n03123809',\n",
       " 'n04363777',\n",
       " 'n04565039',\n",
       " 'n01562451',\n",
       " 'n02840134',\n",
       " 'n04567098',\n",
       " 'n07761611',\n",
       " 'n02771547',\n",
       " 'n03296328',\n",
       " 'n04296949',\n",
       " 'n03029445',\n",
       " 'n02888817',\n",
       " 'n02960690',\n",
       " 'n10377291',\n",
       " 'n01616551',\n",
       " 'n04613555',\n",
       " 'n02366959',\n",
       " 'n04578801',\n",
       " 'n03802507',\n",
       " 'n03824713',\n",
       " 'n03493219',\n",
       " 'n07769306',\n",
       " 'n02136452',\n",
       " 'n01322604',\n",
       " 'n04156946',\n",
       " 'n07898333',\n",
       " 'n02366002',\n",
       " 'n03347731',\n",
       " 'n07697825',\n",
       " 'n09331251',\n",
       " 'n03152830',\n",
       " 'n03878418',\n",
       " 'n03056583',\n",
       " 'n01847170',\n",
       " 'n03901338',\n",
       " 'n03949761',\n",
       " 'n02813645',\n",
       " 'n03682189',\n",
       " 'n04375241',\n",
       " 'n02877266',\n",
       " 'n11810358',\n",
       " 'n02893608',\n",
       " 'n11812910',\n",
       " 'n01778217',\n",
       " 'n07591961',\n",
       " 'n01532325',\n",
       " 'n03154316',\n",
       " 'n07937461',\n",
       " 'n02686121',\n",
       " 'n07590502',\n",
       " 'n02821202',\n",
       " 'n04516354',\n",
       " 'n04330109',\n",
       " 'n02137015',\n",
       " 'n02944579',\n",
       " 'n02932523',\n",
       " 'n02278024',\n",
       " 'n03318983',\n",
       " 'n03268142',\n",
       " 'n02811059',\n",
       " 'n03873996',\n",
       " 'n02678897',\n",
       " 'n03398950',\n",
       " 'n02488415',\n",
       " 'n04451636',\n",
       " 'n02325884',\n",
       " 'n04297944',\n",
       " 'n02679961',\n",
       " 'n04187970',\n",
       " 'n04016846',\n",
       " 'n04289690',\n",
       " 'n07761777',\n",
       " 'n04545305',\n",
       " 'n01851038',\n",
       " 'n03153948',\n",
       " 'n09841696',\n",
       " 'n01586941',\n",
       " 'n04264233',\n",
       " 'n02498153',\n",
       " 'n02129463',\n",
       " 'n02085272',\n",
       " 'n03342961',\n",
       " 'n03453547',\n",
       " 'n10662162',\n",
       " 'n03142579',\n",
       " 'n03231819',\n",
       " 'n03435743',\n",
       " 'n04150371',\n",
       " 'n04255499',\n",
       " 'n04264765',\n",
       " 'n03560567',\n",
       " 'n02449699',\n",
       " 'n07561590',\n",
       " 'n04459018',\n",
       " 'n02802215',\n",
       " 'n03237416',\n",
       " 'n02874642',\n",
       " 'n03409806',\n",
       " 'n03913930',\n",
       " 'n01824035',\n",
       " 'n04605163',\n",
       " 'n03986355',\n",
       " 'n03221351',\n",
       " 'n03530910',\n",
       " 'n03668488',\n",
       " 'n07763107',\n",
       " 'n03386726',\n",
       " 'n03929091',\n",
       " 'n02936281',\n",
       " 'n02127678',\n",
       " 'n09403734',\n",
       " 'n04387261',\n",
       " 'n03410740',\n",
       " 'n04228215',\n",
       " 'n03464053',\n",
       " 'n02758490',\n",
       " 'n03623073',\n",
       " 'n02679142',\n",
       " 'n07879659',\n",
       " 'n04281571',\n",
       " 'n07801779',\n",
       " 'n11958080',\n",
       " 'n04488530',\n",
       " 'n03132438',\n",
       " 'n07743224',\n",
       " 'n01514752',\n",
       " 'n03228533',\n",
       " 'n03105214',\n",
       " 'n03877351',\n",
       " 'n04136161',\n",
       " 'n02932891',\n",
       " 'n03973945',\n",
       " 'n02918330',\n",
       " 'n03506184',\n",
       " 'n03356982',\n",
       " 'n02878222',\n",
       " 'n02003204',\n",
       " 'n03900301',\n",
       " 'n07802152',\n",
       " 'n09259025',\n",
       " 'n07585997',\n",
       " 'n02904927',\n",
       " 'n01538200',\n",
       " 'n03465500',\n",
       " 'n04562122',\n",
       " 'n12606438',\n",
       " 'n02058747',\n",
       " 'n03985881',\n",
       " 'n04480853',\n",
       " 'n02605936',\n",
       " 'n03981340',\n",
       " 'n01664990',\n",
       " 'n07615569',\n",
       " 'n06359657',\n",
       " 'n03688832',\n",
       " 'n03013580',\n",
       " 'n02167944',\n",
       " 'n04214046',\n",
       " 'n04561734',\n",
       " 'n03997274',\n",
       " 'n03167337',\n",
       " 'n07874531',\n",
       " 'n02684356',\n",
       " 'n03610524',\n",
       " 'n10332257',\n",
       " 'n07587023',\n",
       " 'n03483971',\n",
       " 'n03672521',\n",
       " 'n03510866',\n",
       " 'n03821518',\n",
       " 'n07765361',\n",
       " 'n03952576',\n",
       " 'n04325592',\n",
       " 'n07879953',\n",
       " 'n03223441',\n",
       " 'n03886762',\n",
       " 'n03119396',\n",
       " 'n13135692',\n",
       " 'n02759700',\n",
       " 'n04573045',\n",
       " 'n02455720',\n",
       " 'n02087314',\n",
       " 'n03038281',\n",
       " 'n07721195',\n",
       " 'n07839593',\n",
       " 'n03025165',\n",
       " 'n03980986',\n",
       " 'n04084517',\n",
       " 'n07587111',\n",
       " 'n03415252',\n",
       " 'n03404149',\n",
       " 'n02207179',\n",
       " 'n07749446',\n",
       " 'n02833403',\n",
       " 'n02482650',\n",
       " 'n03057841',\n",
       " 'n03374838',\n",
       " 'n04555700',\n",
       " 'n03500838',\n",
       " 'n04607869',\n",
       " 'n04515890',\n",
       " 'n04465666',\n",
       " 'n04095577',\n",
       " 'n03455488',\n",
       " 'n09435739',\n",
       " 'n04239786',\n",
       " 'n07560903',\n",
       " 'n02684649',\n",
       " 'n02796412',\n",
       " 'n02801184',\n",
       " 'n04120266',\n",
       " 'n04335886',\n",
       " 'n03955296',\n",
       " 'n07765862',\n",
       " 'n02363996',\n",
       " 'n02752917',\n",
       " 'n04571686',\n",
       " 'n03112605',\n",
       " 'n02365480',\n",
       " 'n01606177',\n",
       " 'n04134008',\n",
       " 'n04235646',\n",
       " 'n03505207',\n",
       " 'n04030846',\n",
       " 'n02921195',\n",
       " 'n03652729',\n",
       " 'n07920222',\n",
       " 'n11989869',\n",
       " 'n03635330',\n",
       " 'n11988596',\n",
       " 'n03622931',\n",
       " 'n01796800',\n",
       " 'n03977430',\n",
       " 'n02941228',\n",
       " 'n04399700',\n",
       " 'n07769005',\n",
       " 'n04104147',\n",
       " 'n04210120',\n",
       " 'n07590177',\n",
       " 'n02807616',\n",
       " 'n03506880',\n",
       " 'n07713763',\n",
       " 'n03687928',\n",
       " 'n02485371',\n",
       " 'n04167346',\n",
       " 'n03341153',\n",
       " 'n04059399',\n",
       " 'n02962843',\n",
       " 'n02712643',\n",
       " 'n02790154',\n",
       " 'n03010057',\n",
       " 'n02264021',\n",
       " 'n04229007',\n",
       " 'n04427473',\n",
       " 'n02800675',\n",
       " 'n03540476',\n",
       " 'n03789603',\n",
       " 'n01851207',\n",
       " 'n03361194',\n",
       " 'n10184505',\n",
       " 'n03019938',\n",
       " 'n03075248',\n",
       " 'n01561181',\n",
       " 'n03292085',\n",
       " 'n03429771',\n",
       " 'n02118707',\n",
       " 'n07691650',\n",
       " 'n02944146',\n",
       " 'n03843883',\n",
       " 'n13150592',\n",
       " 'n03518445',\n",
       " 'n04111414',\n",
       " 'n01558307',\n",
       " 'n13017102',\n",
       " 'n02700895',\n",
       " 'n02388735',\n",
       " 'n03338143',\n",
       " 'n03131193',\n",
       " 'n04155625',\n",
       " 'n04437670',\n",
       " 'n02605703',\n",
       " 'n03767459',\n",
       " 'n02923915',\n",
       " 'n12035907',\n",
       " 'n04495310',\n",
       " 'n02326763',\n",
       " 'n04307878',\n",
       " 'n07745046',\n",
       " 'n04297847',\n",
       " 'n02972714',\n",
       " 'n07919665',\n",
       " 'n04219067',\n",
       " 'n03843316',\n",
       " 'n04524594',\n",
       " 'n02855701',\n",
       " 'n03647423',\n",
       " 'n02816656',\n",
       " 'n04324741',\n",
       " 'n02387983',\n",
       " 'n04398167',\n",
       " 'n04185529',\n",
       " 'n01842235',\n",
       " 'n07762114',\n",
       " 'n04563790',\n",
       " 'n12093600',\n",
       " 'n01858780',\n",
       " 'n01668436',\n",
       " 'n03490649',\n",
       " 'n03612010',\n",
       " 'n03608074',\n",
       " 'n02457945',\n",
       " 'n02751067',\n",
       " 'n03059103',\n",
       " 'n03212406',\n",
       " 'n07764847',\n",
       " 'n07751280',\n",
       " 'n07766173',\n",
       " 'n02003839',\n",
       " 'n02871314',\n",
       " 'n02055107',\n",
       " 'n02389261',\n",
       " 'n03255488',\n",
       " 'n01593282',\n",
       " 'n03677766',\n",
       " 'n04387095',\n",
       " 'n04605572',\n",
       " 'n02836607',\n",
       " 'n02499568',\n",
       " 'n07835701',\n",
       " 'n04146343',\n",
       " 'n04056289',\n",
       " 'n10638922',\n",
       " 'n02056228',\n",
       " 'n03427084',\n",
       " 'n12033504',\n",
       " 'n03232676',\n",
       " 'n01786646',\n",
       " 'n03609235',\n",
       " 'n03944138',\n",
       " 'n02977619',\n",
       " 'n03890514',\n",
       " 'n03459914',\n",
       " 'n03836976',\n",
       " 'n03193754',\n",
       " 'n02827020',\n",
       " 'n03436891',\n",
       " 'n03056010',\n",
       " 'n02331842',\n",
       " 'n03051041',\n",
       " 'n02382132',\n",
       " 'n03461037',\n",
       " 'n01514926',\n",
       " 'n04226322',\n",
       " 'n02004131',\n",
       " 'n01818299',\n",
       " 'n02756977',\n",
       " 'n02704645',\n",
       " 'n04612373',\n",
       " 'n02809605',\n",
       " 'n04175147',\n",
       " 'n03297103',\n",
       " 'n02782329',\n",
       " 'n02843029',\n",
       " 'n03259009',\n",
       " 'n04429971',\n",
       " 'n07763987',\n",
       " 'n03992325',\n",
       " 'n03241335',\n",
       " 'n03900979',\n",
       " 'n04223299',\n",
       " 'n03959014',\n",
       " 'n03598385',\n",
       " 'n04320405',\n",
       " 'n03488438',\n",
       " 'n03853291',\n",
       " 'n04410760',\n",
       " 'n03718935',\n",
       " 'n02748491',\n",
       " 'n12306419',\n",
       " 'n04300080',\n",
       " 'n04392764',\n",
       " 'n07765073',\n",
       " 'n04088696',\n",
       " 'n04039742',\n",
       " 'n03459591',\n",
       " 'n07579917',\n",
       " 'n04078955',\n",
       " 'n04411966',\n",
       " 'n07894102',\n",
       " 'n02967782',\n",
       " 'n02869563',\n",
       " 'n03876111',\n",
       " 'n02871005',\n",
       " 'n03901229',\n",
       " 'n03879705',\n",
       " 'n09458269',\n",
       " 'n02982416',\n",
       " 'n02442336',\n",
       " 'n04134170',\n",
       " 'n03512624',\n",
       " 'n04310904',\n",
       " 'n02905886',\n",
       " 'n04253931',\n",
       " 'n03954507',\n",
       " 'n03542605',\n",
       " 'n07840304',\n",
       " 'n07691539',\n",
       " 'n03109693',\n",
       " 'n02487547',\n",
       " 'n02126139',\n",
       " 'n07586894',\n",
       " 'n04252331',\n",
       " 'n03148727',\n",
       " 'n02403153',\n",
       " 'n02983072',\n",
       " 'n02776505',\n",
       " 'n03978815',\n",
       " 'n02881397',\n",
       " 'n09210862',\n",
       " 'n02277422',\n",
       " 'n03129001',\n",
       " 'n03628215',\n",
       " 'n04177545',\n",
       " 'n01517389',\n",
       " 'n07565161',\n",
       " 'n07869937',\n",
       " 'n03262809',\n",
       " 'n03072056',\n",
       " 'n10297841',\n",
       " 'n02395931',\n",
       " 'n03164929',\n",
       " 'n02071028',\n",
       " 'n03640850',\n",
       " 'n07586099',\n",
       " 'n03687820',\n",
       " 'n03454110',\n",
       " 'n02689144',\n",
       " 'n03217333',\n",
       " 'n04438897',\n",
       " 'n02837702',\n",
       " 'n03364008',\n",
       " 'n02972533',\n",
       " 'n07769584',\n",
       " 'n04121728',\n",
       " 'n03992975',\n",
       " 'n04357531',\n",
       " 'n07896994',\n",
       " 'n01775370',\n",
       " 'n04138398',\n",
       " 'n03487642',\n",
       " 'n02986348',\n",
       " 'n03402785',\n",
       " 'n07719213',\n",
       " 'n02667576',\n",
       " 'n03206602',\n",
       " 'n02998107',\n",
       " 'n07896422',\n",
       " 'n03514129',\n",
       " 'n04026813',\n",
       " 'n04545471',\n",
       " 'n03723153',\n",
       " 'n02410900',\n",
       " 'n07837755',\n",
       " 'n04256891',\n",
       " 'n13054073',\n",
       " 'n02458135',\n",
       " 'n02361587',\n",
       " 'n02547014',\n",
       " 'n03222318',\n",
       " 'n03360038',\n",
       " 'n01613807',\n",
       " 'n04275904',\n",
       " 'n03943833',\n",
       " 'n03325288',\n",
       " 'n02509197',\n",
       " 'n02544274',\n",
       " 'n02054036',\n",
       " 'n04052346',\n",
       " 'n01579729',\n",
       " 'n04030161',\n",
       " 'n04391158',\n",
       " 'n03889397',\n",
       " 'n01796019',\n",
       " 'n02760199',\n",
       " 'n04568841',\n",
       " 'n03071021',\n",
       " 'n02128669',\n",
       " 'n04299066',\n",
       " 'n02889646',\n",
       " 'n03258330',\n",
       " 'n04387201',\n",
       " 'n07755262',\n",
       " 'n01914830',\n",
       " 'n03715669',\n",
       " 'n04501837',\n",
       " 'n03698815',\n",
       " 'n01530439',\n",
       " 'n04053508',\n",
       " 'n04289964',\n",
       " 'n03998867',\n",
       " 'n03548626',\n",
       " 'n02011281',\n",
       " 'n03261603',\n",
       " 'n01442710',\n",
       " 'n01783706',\n",
       " 'n04278353',\n",
       " 'n03050453',\n",
       " 'n03461988',\n",
       " 'n02859184',\n",
       " 'n07584332',\n",
       " 'n02843909',\n",
       " 'n04414476',\n",
       " 'n03519387',\n",
       " 'n04480141',\n",
       " 'n12966945',\n",
       " 'n04183076',\n",
       " 'n02322047',\n",
       " 'n07763792',\n",
       " 'n02759387',\n",
       " 'n13004423',\n",
       " 'n02234848',\n",
       " 'n02438173',\n",
       " 'n07835457',\n",
       " 'n03488111',\n",
       " 'n01783017',\n",
       " 'n12030092',\n",
       " 'n07763629',\n",
       " 'n09336555',\n",
       " 'n03813946',\n",
       " 'n01788579',\n",
       " 'n01678343',\n",
       " 'n01933151',\n",
       " 'n02868975',\n",
       " 'n01817263',\n",
       " 'n02732696',\n",
       " 'n04139748',\n",
       " 'n02209624',\n",
       " 'n03599628',\n",
       " 'n07839730',\n",
       " 'n04226464',\n",
       " 'n02813544',\n",
       " 'n02406046',\n",
       " 'n04233124',\n",
       " 'n03190458',\n",
       " 'n03632729',\n",
       " 'n02962061',\n",
       " 'n04164868',\n",
       " 'n04259468',\n",
       " 'n07869111',\n",
       " 'n02778131',\n",
       " 'n07762913',\n",
       " 'n01534155',\n",
       " 'n03128868',\n",
       " 'n09874725',\n",
       " 'n01910998',\n",
       " 'n04321453',\n",
       " 'n03872016',\n",
       " 'n02118176',\n",
       " 'n04020912',\n",
       " 'n03785721',\n",
       " 'n06596727',\n",
       " 'n04131499',\n",
       " 'n01562265',\n",
       " 'n03981924',\n",
       " 'n02809491',\n",
       " 'n13006631',\n",
       " 'n03645011',\n",
       " 'n07585758',\n",
       " 'n11672269',\n",
       " 'n03037108',\n",
       " 'n03523849',\n",
       " 'n01806061',\n",
       " 'n04568713',\n",
       " 'n02384741',\n",
       " 'n07589458',\n",
       " 'n07764155',\n",
       " 'n04223170',\n",
       " 'n03504205',\n",
       " 'n03859170',\n",
       " 'n02893692',\n",
       " 'n01757677',\n",
       " 'n03172038',\n",
       " 'n12056601',\n",
       " 'n03296081',\n",
       " 'n03629100',\n",
       " 'n07876893',\n",
       " 'n13006171',\n",
       " 'n02808695',\n",
       " 'n03078995',\n",
       " 'n13003522',\n",
       " 'n02776978',\n",
       " 'n07586318',\n",
       " 'n01757901',\n",
       " 'n03198819',\n",
       " 'n07743902',\n",
       " 'n04497442',\n",
       " 'n04442741',\n",
       " 'n03383646',\n",
       " 'n04554523',\n",
       " 'n03140546',\n",
       " 'n07716649',\n",
       " 'n09325395',\n",
       " 'n03919430',\n",
       " 'n12026018',\n",
       " 'n03237992',\n",
       " 'n04501127',\n",
       " 'n11889619',\n",
       " 'n07932176',\n",
       " 'n04278751',\n",
       " 'n03934890',\n",
       " 'n02411999',\n",
       " 'n02729222',\n",
       " 'n03156279',\n",
       " 'n07876026',\n",
       " 'n02317781',\n",
       " 'n03889726',\n",
       " 'n03415626',\n",
       " 'n03697265',\n",
       " 'n04280845',\n",
       " 'n04322692',\n",
       " 'n03112719',\n",
       " 'n04443766',\n",
       " 'n03439260',\n",
       " 'n07920872',\n",
       " 'n03345837',\n",
       " 'n07938594',\n",
       " 'n02901377',\n",
       " 'n03041114',\n",
       " 'n07768423',\n",
       " 'n02666501',\n",
       " 'n03383378',\n",
       " 'n03000021',\n",
       " 'n02881906',\n",
       " 'n04336996',\n",
       " 'n02365108',\n",
       " ...}"
      ]
     },
     "execution_count": 327,
     "metadata": {},
     "output_type": "execute_result"
    }
   ],
   "source": [
    "set((filter(lambda x: is_one_word(x), hop2_simp)))"
   ]
  },
  {
   "cell_type": "code",
   "execution_count": 340,
   "metadata": {
    "collapsed": true,
    "deletable": true,
    "editable": true
   },
   "outputs": [],
   "source": [
    "output = 'hop2.txt'\n",
    "f = open(output, \"w+\")\n",
    "for synset in set((filter(lambda x: is_one_word(x), hop2_simp))):\n",
    "    print >> f, synset\n",
    "f.close()"
   ]
  },
  {
   "cell_type": "code",
   "execution_count": 336,
   "metadata": {
    "collapsed": true,
    "deletable": true,
    "editable": true
   },
   "outputs": [],
   "source": [
    "for i in set((filter(lambda x: is_one_word(x), hop2_simp))):\n",
    "    if len(i) != 9:\n",
    "        print i"
   ]
  },
  {
   "cell_type": "code",
   "execution_count": null,
   "metadata": {
    "collapsed": true,
    "deletable": true,
    "editable": true
   },
   "outputs": [],
   "source": []
  }
 ],
 "metadata": {
  "kernelspec": {
   "display_name": "Python 2",
   "language": "python",
   "name": "python2"
  },
  "language_info": {
   "codemirror_mode": {
    "name": "ipython",
    "version": 2
   },
   "file_extension": ".py",
   "mimetype": "text/x-python",
   "name": "python",
   "nbconvert_exporter": "python",
   "pygments_lexer": "ipython2",
   "version": "2.7.13"
  }
 },
 "nbformat": 4,
 "nbformat_minor": 2
}
